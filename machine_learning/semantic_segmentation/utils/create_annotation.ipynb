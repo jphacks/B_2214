{
 "cells": [
  {
   "cell_type": "code",
   "execution_count": 1,
   "id": "87b84360",
   "metadata": {},
   "outputs": [],
   "source": [
    "import json\n",
    "from pathlib import Path\n",
    "from PIL import Image\n",
    "import numpy as np\n",
    "import cv2"
   ]
  },
  {
   "cell_type": "code",
   "execution_count": 5,
   "id": "8d0afe2c",
   "metadata": {},
   "outputs": [],
   "source": [
    "data_dir = Path('./dataset/data')\n",
    "annotation_path = Path('./dataset/annotation.json')\n",
    "save_img_dir = Path('./dataset/annotations/')"
   ]
  },
  {
   "cell_type": "code",
   "execution_count": 6,
   "id": "d75aace8",
   "metadata": {},
   "outputs": [],
   "source": [
    "with (annotation_path).open('r') as f:\n",
    "    annotation = json.load(f)"
   ]
  },
  {
   "cell_type": "code",
   "execution_count": 7,
   "id": "4182acf8",
   "metadata": {},
   "outputs": [],
   "source": [
    "for anno in annotation:\n",
    "    img = np.asarray(Image.open(data_dir / anno['External ID']))\n",
    "    black_img = np.full_like(img, 0)\n",
    "    anno_list = []\n",
    "    for dot in anno['Label']['objects'][0]['polygon']:\n",
    "        anno_list.append([int(dot['x']), int(dot['y'])])\n",
    "    mask_poly = np.array(anno_list)\n",
    "    masked_img = cv2.fillPoly(black_img, [mask_poly], (255, 0, 0))\n",
    "    Image.fromarray(masked_img).save(save_img_dir / anno['External ID'])"
   ]
  },
  {
   "cell_type": "code",
   "execution_count": 146,
   "id": "c8b32f3e",
   "metadata": {},
   "outputs": [],
   "source": [
    "for path in save_img_dir.iterdir():\n",
    "    img = Image.open(str(path))\n",
    "    img = img.convert('P')"
   ]
  },
  {
   "cell_type": "code",
   "execution_count": 160,
   "id": "c02a9fdd",
   "metadata": {},
   "outputs": [],
   "source": [
    "aaa  = np.asarray(img)\n",
    "aaa = np.where(aaa != 0, 1, 0)"
   ]
  },
  {
   "cell_type": "code",
   "execution_count": 75,
   "id": "313fd5db",
   "metadata": {},
   "outputs": [
    {
     "data": {
      "text/plain": [
       "'P'"
      ]
     },
     "execution_count": 75,
     "metadata": {},
     "output_type": "execute_result"
    }
   ],
   "source": [
    "img.mode"
   ]
  },
  {
   "cell_type": "code",
   "execution_count": 71,
   "id": "11048378",
   "metadata": {},
   "outputs": [],
   "source": [
    "aaa = np.asarray(Image.open(str(path)))"
   ]
  },
  {
   "cell_type": "code",
   "execution_count": 73,
   "id": "a6fc9ece",
   "metadata": {},
   "outputs": [
    {
     "data": {
      "text/plain": [
       "(827, 942, 3)"
      ]
     },
     "execution_count": 73,
     "metadata": {},
     "output_type": "execute_result"
    }
   ],
   "source": [
    "aaa.shape"
   ]
  },
  {
   "cell_type": "code",
   "execution_count": 53,
   "id": "6c95821e",
   "metadata": {},
   "outputs": [
    {
     "ename": "AttributeError",
     "evalue": "'numpy.ndarray' object has no attribute 'convert'",
     "output_type": "error",
     "traceback": [
      "\u001b[0;31m---------------------------------------------------------------------------\u001b[0m",
      "\u001b[0;31mAttributeError\u001b[0m                            Traceback (most recent call last)",
      "\u001b[0;32m<ipython-input-53-d1d5badfbed5>\u001b[0m in \u001b[0;36m<module>\u001b[0;34m\u001b[0m\n\u001b[1;32m      7\u001b[0m     \u001b[0mmask_poly\u001b[0m \u001b[0;34m=\u001b[0m \u001b[0mnp\u001b[0m\u001b[0;34m.\u001b[0m\u001b[0marray\u001b[0m\u001b[0;34m(\u001b[0m\u001b[0manno_list\u001b[0m\u001b[0;34m)\u001b[0m\u001b[0;34m\u001b[0m\u001b[0;34m\u001b[0m\u001b[0m\n\u001b[1;32m      8\u001b[0m     \u001b[0mmasked_img\u001b[0m \u001b[0;34m=\u001b[0m \u001b[0mcv2\u001b[0m\u001b[0;34m.\u001b[0m\u001b[0mfillPoly\u001b[0m\u001b[0;34m(\u001b[0m\u001b[0mblack_img\u001b[0m\u001b[0;34m,\u001b[0m \u001b[0;34m[\u001b[0m\u001b[0mmask_poly\u001b[0m\u001b[0;34m]\u001b[0m\u001b[0;34m,\u001b[0m \u001b[0;36m155\u001b[0m\u001b[0;34m)\u001b[0m\u001b[0;34m\u001b[0m\u001b[0;34m\u001b[0m\u001b[0m\n\u001b[0;32m----> 9\u001b[0;31m     \u001b[0mmasked_img\u001b[0m \u001b[0;34m=\u001b[0m \u001b[0mmasked_img\u001b[0m\u001b[0;34m.\u001b[0m\u001b[0mconvert\u001b[0m\u001b[0;34m(\u001b[0m\u001b[0;34m'RGB'\u001b[0m\u001b[0;34m)\u001b[0m\u001b[0;34m\u001b[0m\u001b[0;34m\u001b[0m\u001b[0m\n\u001b[0m\u001b[1;32m     10\u001b[0m     \u001b[0mImage\u001b[0m\u001b[0;34m.\u001b[0m\u001b[0mfromarray\u001b[0m\u001b[0;34m(\u001b[0m\u001b[0mnp\u001b[0m\u001b[0;34m.\u001b[0m\u001b[0muint8\u001b[0m\u001b[0;34m(\u001b[0m\u001b[0mmasked_img\u001b[0m\u001b[0;34m)\u001b[0m\u001b[0;34m,\u001b[0m \u001b[0mmode\u001b[0m\u001b[0;34m=\u001b[0m\u001b[0;34m'P'\u001b[0m\u001b[0;34m)\u001b[0m\u001b[0;34m.\u001b[0m\u001b[0msave\u001b[0m\u001b[0;34m(\u001b[0m\u001b[0msave_img_dir\u001b[0m \u001b[0;34m/\u001b[0m \u001b[0manno\u001b[0m\u001b[0;34m[\u001b[0m\u001b[0;34m'External ID'\u001b[0m\u001b[0;34m]\u001b[0m\u001b[0;34m)\u001b[0m\u001b[0;34m\u001b[0m\u001b[0;34m\u001b[0m\u001b[0m\n",
      "\u001b[0;31mAttributeError\u001b[0m: 'numpy.ndarray' object has no attribute 'convert'"
     ]
    }
   ],
   "source": [
    "for anno in annotation:\n",
    "    img = np.asarray(Image.open(data_dir / anno['External ID']))\n",
    "    black_img = np.zeros((img.shape[0], img.shape[1]))\n",
    "    anno_list = []\n",
    "    for dot in anno['Label']['objects'][0]['polygon']:\n",
    "        anno_list.append([int(dot['x']), int(dot['y'])])\n",
    "    mask_poly = np.array(anno_list)\n",
    "    masked_img = cv2.fillPoly(black_img, [mask_poly], 155)\n",
    "    masked_img = masked_img.convert('RGB')\n",
    "    Image.fromarray(np.uint8(masked_img), mode='P').save(save_img_dir / anno['External ID'])"
   ]
  },
  {
   "cell_type": "code",
   "execution_count": 48,
   "id": "99bdc3af",
   "metadata": {},
   "outputs": [
    {
     "data": {
      "text/plain": [
       "[{'x': 52.82, 'y': 29.63},\n",
       " {'x': 22.62, 'y': 85.472},\n",
       " {'x': 51.681, 'y': 100.858},\n",
       " {'x': 51.681, 'y': 345.309},\n",
       " {'x': 59.088, 'y': 345.879},\n",
       " {'x': 60.228, 'y': 379.498},\n",
       " {'x': 205.531, 'y': 377.788},\n",
       " {'x': 205.531, 'y': 66.099},\n",
       " {'x': 223.765, 'y': 67.808},\n",
       " {'x': 223.195, 'y': 27.921},\n",
       " {'x': 182.169, 'y': 27.351},\n",
       " {'x': 182.169, 'y': 41.597},\n",
       " {'x': 136.584, 'y': 41.027},\n",
       " {'x': 136.441, 'y': 38.463},\n",
       " {'x': 85.015, 'y': 38.178},\n",
       " {'x': 85.442, 'y': 29.345}]"
      ]
     },
     "execution_count": 48,
     "metadata": {},
     "output_type": "execute_result"
    }
   ],
   "source": [
    "annotation[0]['Label']['objects'][0]['polygon']"
   ]
  },
  {
   "cell_type": "code",
   "execution_count": 26,
   "id": "7214a79f",
   "metadata": {},
   "outputs": [],
   "source": [
    "img = np.asarray(Image.open(data_dir / annotation[0]['External ID']))"
   ]
  },
  {
   "cell_type": "code",
   "execution_count": 27,
   "id": "aba82d2e",
   "metadata": {},
   "outputs": [],
   "source": [
    "black_img = np.full_like(img, 0)"
   ]
  },
  {
   "cell_type": "code",
   "execution_count": 28,
   "id": "f0c66ab8",
   "metadata": {},
   "outputs": [],
   "source": [
    "anno_list = []\n",
    "for dot in annotation[0]['Label']['objects'][0]['polygon']:\n",
    "    anno_list.append([int(dot['x']), int(dot['y'])])\n",
    "mask_poly = np.array(anno_list)"
   ]
  },
  {
   "cell_type": "code",
   "execution_count": 29,
   "id": "079fbc36",
   "metadata": {},
   "outputs": [
    {
     "data": {
      "text/plain": [
       "array([[ 52,  29],\n",
       "       [ 22,  85],\n",
       "       [ 51, 100],\n",
       "       [ 51, 345],\n",
       "       [ 59, 345],\n",
       "       [ 60, 379],\n",
       "       [205, 377],\n",
       "       [205,  66],\n",
       "       [223,  67],\n",
       "       [223,  27],\n",
       "       [182,  27],\n",
       "       [182,  41],\n",
       "       [136,  41],\n",
       "       [136,  38],\n",
       "       [ 85,  38],\n",
       "       [ 85,  29]])"
      ]
     },
     "execution_count": 29,
     "metadata": {},
     "output_type": "execute_result"
    }
   ],
   "source": [
    "mask_poly"
   ]
  },
  {
   "cell_type": "code",
   "execution_count": 30,
   "id": "5a844fdb",
   "metadata": {},
   "outputs": [],
   "source": [
    "masked_img = cv2.fillPoly(black_img, [mask_poly], (255, 0, 0))"
   ]
  },
  {
   "cell_type": "code",
   "execution_count": 31,
   "id": "98f3372c",
   "metadata": {},
   "outputs": [],
   "source": [
    "Image.fromarray(masked_img).save(save_img_dir / annotation[0]['External ID'])"
   ]
  },
  {
   "cell_type": "code",
   "execution_count": 65,
   "id": "60bee4ea",
   "metadata": {},
   "outputs": [
    {
     "data": {
      "text/plain": [
       "array([255, 255, 255], dtype=uint8)"
      ]
     },
     "execution_count": 65,
     "metadata": {},
     "output_type": "execute_result"
    }
   ],
   "source": [
    "img[0][0]"
   ]
  },
  {
   "cell_type": "code",
   "execution_count": null,
   "id": "f63b2232",
   "metadata": {},
   "outputs": [],
   "source": []
  }
 ],
 "metadata": {
  "kernelspec": {
   "display_name": "Python 3",
   "language": "python",
   "name": "python3"
  },
  "language_info": {
   "codemirror_mode": {
    "name": "ipython",
    "version": 3
   },
   "file_extension": ".py",
   "mimetype": "text/x-python",
   "name": "python",
   "nbconvert_exporter": "python",
   "pygments_lexer": "ipython3",
   "version": "3.8.8"
  }
 },
 "nbformat": 4,
 "nbformat_minor": 5
}
